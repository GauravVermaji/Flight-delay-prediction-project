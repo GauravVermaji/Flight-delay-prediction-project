{
  "nbformat": 4,
  "nbformat_minor": 0,
  "metadata": {
    "kernelspec": {
      "display_name": "Python 3",
      "language": "python",
      "name": "python3"
    },
    "language_info": {
      "codemirror_mode": {
        "name": "ipython",
        "version": 3
      },
      "file_extension": ".py",
      "mimetype": "text/x-python",
      "name": "python",
      "nbconvert_exporter": "python",
      "pygments_lexer": "ipython3",
      "version": "3.7.3"
    },
    "colab": {
      "name": "EDA Flight.ipynb",
      "provenance": [],
      "include_colab_link": true
    }
  },
  "cells": [
    {
      "cell_type": "markdown",
      "metadata": {
        "id": "view-in-github",
        "colab_type": "text"
      },
      "source": [
        "<a href=\"https://colab.research.google.com/github/GauravVermaji/Flight-delay-prediction-project/blob/devlop/EDA_Flight.ipynb\" target=\"_parent\"><img src=\"https://colab.research.google.com/assets/colab-badge.svg\" alt=\"Open In Colab\"/></a>"
      ]
    },
    {
      "cell_type": "code",
      "metadata": {
        "id": "TYcNOmobjH-J",
        "colab_type": "code",
        "outputId": "531af0c0-00be-41d8-9465-9aaebd32531b",
        "colab": {
          "base_uri": "https://localhost:8080/",
          "height": 121
        }
      },
      "source": [
        "from google.colab import drive\n",
        "drive.mount('/content/drive')"
      ],
      "execution_count": 3,
      "outputs": [
        {
          "output_type": "stream",
          "text": [
            "Go to this URL in a browser: https://accounts.google.com/o/oauth2/auth?client_id=947318989803-6bn6qk8qdgf4n4g3pfee6491hc0brc4i.apps.googleusercontent.com&redirect_uri=urn%3aietf%3awg%3aoauth%3a2.0%3aoob&response_type=code&scope=email%20https%3a%2f%2fwww.googleapis.com%2fauth%2fdocs.test%20https%3a%2f%2fwww.googleapis.com%2fauth%2fdrive%20https%3a%2f%2fwww.googleapis.com%2fauth%2fdrive.photos.readonly%20https%3a%2f%2fwww.googleapis.com%2fauth%2fpeopleapi.readonly\n",
            "\n",
            "Enter your authorization code:\n",
            "··········\n",
            "Mounted at /content/drive\n"
          ],
          "name": "stdout"
        }
      ]
    },
    {
      "cell_type": "code",
      "metadata": {
        "id": "yjILNRAAhfrD",
        "colab_type": "code",
        "colab": {}
      },
      "source": [
        "# Jan_2019_ontime.csv\n",
        "import pandas as pd\n",
        "import numpy as np\n",
        "import  matplotlib.pyplot as plt\n",
        "pd.set_option('display.max_columns', 500)\n",
        "pd.set_option('display.width', 1000)"
      ],
      "execution_count": 0,
      "outputs": []
    },
    {
      "cell_type": "code",
      "metadata": {
        "id": "ZhGksNwyhfrO",
        "colab_type": "code",
        "colab": {}
      },
      "source": [
        "# read the csv Jan_2019_ontime.csv\n",
        "flight_df = pd.read_csv(\"/content/drive/My Drive/Flight delay prediction/Data/Jan_2019_ontime.csv\")"
      ],
      "execution_count": 0,
      "outputs": []
    },
    {
      "cell_type": "code",
      "metadata": {
        "id": "GTTr34jkhfrf",
        "colab_type": "code",
        "outputId": "85aafb21-6a93-4a02-bc0c-c1e564cf2b80",
        "colab": {
          "base_uri": "https://localhost:8080/",
          "height": 232
        }
      },
      "source": [
        "flight_df.head()"
      ],
      "execution_count": 6,
      "outputs": [
        {
          "output_type": "execute_result",
          "data": {
            "text/html": [
              "<div>\n",
              "<style scoped>\n",
              "    .dataframe tbody tr th:only-of-type {\n",
              "        vertical-align: middle;\n",
              "    }\n",
              "\n",
              "    .dataframe tbody tr th {\n",
              "        vertical-align: top;\n",
              "    }\n",
              "\n",
              "    .dataframe thead th {\n",
              "        text-align: right;\n",
              "    }\n",
              "</style>\n",
              "<table border=\"1\" class=\"dataframe\">\n",
              "  <thead>\n",
              "    <tr style=\"text-align: right;\">\n",
              "      <th></th>\n",
              "      <th>DAY_OF_MONTH</th>\n",
              "      <th>DAY_OF_WEEK</th>\n",
              "      <th>OP_UNIQUE_CARRIER</th>\n",
              "      <th>OP_CARRIER_AIRLINE_ID</th>\n",
              "      <th>OP_CARRIER</th>\n",
              "      <th>TAIL_NUM</th>\n",
              "      <th>OP_CARRIER_FL_NUM</th>\n",
              "      <th>ORIGIN_AIRPORT_ID</th>\n",
              "      <th>ORIGIN_AIRPORT_SEQ_ID</th>\n",
              "      <th>ORIGIN</th>\n",
              "      <th>DEST_AIRPORT_ID</th>\n",
              "      <th>DEST_AIRPORT_SEQ_ID</th>\n",
              "      <th>DEST</th>\n",
              "      <th>DEP_TIME</th>\n",
              "      <th>DEP_DEL15</th>\n",
              "      <th>DEP_TIME_BLK</th>\n",
              "      <th>ARR_TIME</th>\n",
              "      <th>ARR_DEL15</th>\n",
              "      <th>CANCELLED</th>\n",
              "      <th>DIVERTED</th>\n",
              "      <th>DISTANCE</th>\n",
              "      <th>Unnamed: 21</th>\n",
              "    </tr>\n",
              "  </thead>\n",
              "  <tbody>\n",
              "    <tr>\n",
              "      <th>0</th>\n",
              "      <td>1</td>\n",
              "      <td>2</td>\n",
              "      <td>9E</td>\n",
              "      <td>20363</td>\n",
              "      <td>9E</td>\n",
              "      <td>N8688C</td>\n",
              "      <td>3280</td>\n",
              "      <td>11953</td>\n",
              "      <td>1195302</td>\n",
              "      <td>GNV</td>\n",
              "      <td>10397</td>\n",
              "      <td>1039707</td>\n",
              "      <td>ATL</td>\n",
              "      <td>601.0</td>\n",
              "      <td>0.0</td>\n",
              "      <td>0600-0659</td>\n",
              "      <td>722.0</td>\n",
              "      <td>0.0</td>\n",
              "      <td>0.0</td>\n",
              "      <td>0.0</td>\n",
              "      <td>300.0</td>\n",
              "      <td>NaN</td>\n",
              "    </tr>\n",
              "    <tr>\n",
              "      <th>1</th>\n",
              "      <td>1</td>\n",
              "      <td>2</td>\n",
              "      <td>9E</td>\n",
              "      <td>20363</td>\n",
              "      <td>9E</td>\n",
              "      <td>N348PQ</td>\n",
              "      <td>3281</td>\n",
              "      <td>13487</td>\n",
              "      <td>1348702</td>\n",
              "      <td>MSP</td>\n",
              "      <td>11193</td>\n",
              "      <td>1119302</td>\n",
              "      <td>CVG</td>\n",
              "      <td>1359.0</td>\n",
              "      <td>0.0</td>\n",
              "      <td>1400-1459</td>\n",
              "      <td>1633.0</td>\n",
              "      <td>0.0</td>\n",
              "      <td>0.0</td>\n",
              "      <td>0.0</td>\n",
              "      <td>596.0</td>\n",
              "      <td>NaN</td>\n",
              "    </tr>\n",
              "    <tr>\n",
              "      <th>2</th>\n",
              "      <td>1</td>\n",
              "      <td>2</td>\n",
              "      <td>9E</td>\n",
              "      <td>20363</td>\n",
              "      <td>9E</td>\n",
              "      <td>N8896A</td>\n",
              "      <td>3282</td>\n",
              "      <td>11433</td>\n",
              "      <td>1143302</td>\n",
              "      <td>DTW</td>\n",
              "      <td>11193</td>\n",
              "      <td>1119302</td>\n",
              "      <td>CVG</td>\n",
              "      <td>1215.0</td>\n",
              "      <td>0.0</td>\n",
              "      <td>1200-1259</td>\n",
              "      <td>1329.0</td>\n",
              "      <td>0.0</td>\n",
              "      <td>0.0</td>\n",
              "      <td>0.0</td>\n",
              "      <td>229.0</td>\n",
              "      <td>NaN</td>\n",
              "    </tr>\n",
              "    <tr>\n",
              "      <th>3</th>\n",
              "      <td>1</td>\n",
              "      <td>2</td>\n",
              "      <td>9E</td>\n",
              "      <td>20363</td>\n",
              "      <td>9E</td>\n",
              "      <td>N8886A</td>\n",
              "      <td>3283</td>\n",
              "      <td>15249</td>\n",
              "      <td>1524906</td>\n",
              "      <td>TLH</td>\n",
              "      <td>10397</td>\n",
              "      <td>1039707</td>\n",
              "      <td>ATL</td>\n",
              "      <td>1521.0</td>\n",
              "      <td>0.0</td>\n",
              "      <td>1500-1559</td>\n",
              "      <td>1625.0</td>\n",
              "      <td>0.0</td>\n",
              "      <td>0.0</td>\n",
              "      <td>0.0</td>\n",
              "      <td>223.0</td>\n",
              "      <td>NaN</td>\n",
              "    </tr>\n",
              "    <tr>\n",
              "      <th>4</th>\n",
              "      <td>1</td>\n",
              "      <td>2</td>\n",
              "      <td>9E</td>\n",
              "      <td>20363</td>\n",
              "      <td>9E</td>\n",
              "      <td>N8974C</td>\n",
              "      <td>3284</td>\n",
              "      <td>10397</td>\n",
              "      <td>1039707</td>\n",
              "      <td>ATL</td>\n",
              "      <td>11778</td>\n",
              "      <td>1177801</td>\n",
              "      <td>FSM</td>\n",
              "      <td>1847.0</td>\n",
              "      <td>0.0</td>\n",
              "      <td>1900-1959</td>\n",
              "      <td>1940.0</td>\n",
              "      <td>0.0</td>\n",
              "      <td>0.0</td>\n",
              "      <td>0.0</td>\n",
              "      <td>579.0</td>\n",
              "      <td>NaN</td>\n",
              "    </tr>\n",
              "  </tbody>\n",
              "</table>\n",
              "</div>"
            ],
            "text/plain": [
              "   DAY_OF_MONTH  DAY_OF_WEEK OP_UNIQUE_CARRIER  OP_CARRIER_AIRLINE_ID OP_CARRIER TAIL_NUM  OP_CARRIER_FL_NUM  ORIGIN_AIRPORT_ID  ORIGIN_AIRPORT_SEQ_ID ORIGIN  DEST_AIRPORT_ID  DEST_AIRPORT_SEQ_ID DEST  DEP_TIME  DEP_DEL15 DEP_TIME_BLK  ARR_TIME  ARR_DEL15  CANCELLED  DIVERTED  DISTANCE  Unnamed: 21\n",
              "0             1            2                9E                  20363         9E   N8688C               3280              11953                1195302    GNV            10397              1039707  ATL     601.0        0.0    0600-0659     722.0        0.0        0.0       0.0     300.0          NaN\n",
              "1             1            2                9E                  20363         9E   N348PQ               3281              13487                1348702    MSP            11193              1119302  CVG    1359.0        0.0    1400-1459    1633.0        0.0        0.0       0.0     596.0          NaN\n",
              "2             1            2                9E                  20363         9E   N8896A               3282              11433                1143302    DTW            11193              1119302  CVG    1215.0        0.0    1200-1259    1329.0        0.0        0.0       0.0     229.0          NaN\n",
              "3             1            2                9E                  20363         9E   N8886A               3283              15249                1524906    TLH            10397              1039707  ATL    1521.0        0.0    1500-1559    1625.0        0.0        0.0       0.0     223.0          NaN\n",
              "4             1            2                9E                  20363         9E   N8974C               3284              10397                1039707    ATL            11778              1177801  FSM    1847.0        0.0    1900-1959    1940.0        0.0        0.0       0.0     579.0          NaN"
            ]
          },
          "metadata": {
            "tags": []
          },
          "execution_count": 6
        }
      ]
    },
    {
      "cell_type": "code",
      "metadata": {
        "id": "mHcT26t6hfrq",
        "colab_type": "code",
        "outputId": "2149b475-125f-47e9-ba16-7394abf811f4",
        "colab": {
          "base_uri": "https://localhost:8080/",
          "height": 50
        }
      },
      "source": [
        "# clean the data \n",
        "# remove unnessasory columns\n",
        "flight_df.DAY_OF_MONTH.unique()"
      ],
      "execution_count": 7,
      "outputs": [
        {
          "output_type": "execute_result",
          "data": {
            "text/plain": [
              "array([ 1,  2,  3,  4,  5,  6,  7,  8,  9, 10, 11, 12, 13, 14, 15, 16, 17,\n",
              "       18, 19, 20, 21, 22, 23, 24, 25, 26, 27, 28, 29, 30, 31])"
            ]
          },
          "metadata": {
            "tags": []
          },
          "execution_count": 7
        }
      ]
    },
    {
      "cell_type": "code",
      "metadata": {
        "id": "0kEtyw_z-NTL",
        "colab_type": "code",
        "outputId": "9077e6ba-94c2-43ba-dd56-68065fcdbac6",
        "colab": {
          "base_uri": "https://localhost:8080/",
          "height": 34
        }
      },
      "source": [
        "int(flight_df.DEP_TIME[1])\n",
        "# cast dep time in int"
      ],
      "execution_count": 8,
      "outputs": [
        {
          "output_type": "execute_result",
          "data": {
            "text/plain": [
              "1359"
            ]
          },
          "metadata": {
            "tags": []
          },
          "execution_count": 8
        }
      ]
    },
    {
      "cell_type": "code",
      "metadata": {
        "id": "zHuyrq6tCJpX",
        "colab_type": "code",
        "colab": {}
      },
      "source": [
        "# DEp time BLK\n",
        "# 2 columns break start , end"
      ],
      "execution_count": 0,
      "outputs": []
    },
    {
      "cell_type": "code",
      "metadata": {
        "id": "jjqMpUPgCvDb",
        "colab_type": "code",
        "colab": {}
      },
      "source": [
        "# ARR_TIME cast in integer"
      ],
      "execution_count": 0,
      "outputs": []
    },
    {
      "cell_type": "code",
      "metadata": {
        "id": "GUl7Z0PwD1Wl",
        "colab_type": "code",
        "colab": {}
      },
      "source": [
        "# each flight duration"
      ],
      "execution_count": 0,
      "outputs": []
    },
    {
      "cell_type": "code",
      "metadata": {
        "id": "VGnRw0HLEZo5",
        "colab_type": "code",
        "colab": {}
      },
      "source": [
        "# https://towardsdatascience.com/exploratory-data-analysis-in-python-c9a77dfa39ce"
      ],
      "execution_count": 0,
      "outputs": []
    },
    {
      "cell_type": "code",
      "metadata": {
        "id": "lKp9oezyFFfy",
        "colab_type": "code",
        "outputId": "4387887d-22c1-497b-d34c-321776be31ec",
        "colab": {
          "base_uri": "https://localhost:8080/",
          "height": 34
        }
      },
      "source": [
        "len(flight_df.columns)"
      ],
      "execution_count": 9,
      "outputs": [
        {
          "output_type": "execute_result",
          "data": {
            "text/plain": [
              "22"
            ]
          },
          "metadata": {
            "tags": []
          },
          "execution_count": 9
        }
      ]
    },
    {
      "cell_type": "code",
      "metadata": {
        "id": "WJoLcZoLFk_T",
        "colab_type": "code",
        "outputId": "692e3e76-e12f-4408-df64-a7694c067dce",
        "colab": {
          "base_uri": "https://localhost:8080/",
          "height": 34
        }
      },
      "source": [
        "flight_df.shape"
      ],
      "execution_count": 10,
      "outputs": [
        {
          "output_type": "execute_result",
          "data": {
            "text/plain": [
              "(583985, 22)"
            ]
          },
          "metadata": {
            "tags": []
          },
          "execution_count": 10
        }
      ]
    },
    {
      "cell_type": "code",
      "metadata": {
        "id": "9VgoD_FOFp8f",
        "colab_type": "code",
        "outputId": "72a1de34-4084-49fc-bd50-8e3e8ae68c82",
        "colab": {
          "base_uri": "https://localhost:8080/",
          "height": 403
        }
      },
      "source": [
        "# Checking data types\n",
        "flight_df.dtypes"
      ],
      "execution_count": 11,
      "outputs": [
        {
          "output_type": "execute_result",
          "data": {
            "text/plain": [
              "DAY_OF_MONTH               int64\n",
              "DAY_OF_WEEK                int64\n",
              "OP_UNIQUE_CARRIER         object\n",
              "OP_CARRIER_AIRLINE_ID      int64\n",
              "OP_CARRIER                object\n",
              "TAIL_NUM                  object\n",
              "OP_CARRIER_FL_NUM          int64\n",
              "ORIGIN_AIRPORT_ID          int64\n",
              "ORIGIN_AIRPORT_SEQ_ID      int64\n",
              "ORIGIN                    object\n",
              "DEST_AIRPORT_ID            int64\n",
              "DEST_AIRPORT_SEQ_ID        int64\n",
              "DEST                      object\n",
              "DEP_TIME                 float64\n",
              "DEP_DEL15                float64\n",
              "DEP_TIME_BLK              object\n",
              "ARR_TIME                 float64\n",
              "ARR_DEL15                float64\n",
              "CANCELLED                float64\n",
              "DIVERTED                 float64\n",
              "DISTANCE                 float64\n",
              "Unnamed: 21              float64\n",
              "dtype: object"
            ]
          },
          "metadata": {
            "tags": []
          },
          "execution_count": 11
        }
      ]
    },
    {
      "cell_type": "code",
      "metadata": {
        "id": "hYZlON1zqUrq",
        "colab_type": "code",
        "outputId": "9234c80c-21e7-412a-d858-ae4a048c565b",
        "colab": {
          "base_uri": "https://localhost:8080/",
          "height": 54
        }
      },
      "source": [
        "flight_df.columns"
      ],
      "execution_count": 12,
      "outputs": [
        {
          "output_type": "execute_result",
          "data": {
            "text/plain": [
              "Index(['DAY_OF_MONTH', 'DAY_OF_WEEK', 'OP_UNIQUE_CARRIER', 'OP_CARRIER_AIRLINE_ID', 'OP_CARRIER', 'TAIL_NUM', 'OP_CARRIER_FL_NUM', 'ORIGIN_AIRPORT_ID', 'ORIGIN_AIRPORT_SEQ_ID', 'ORIGIN', 'DEST_AIRPORT_ID', 'DEST_AIRPORT_SEQ_ID', 'DEST', 'DEP_TIME', 'DEP_DEL15', 'DEP_TIME_BLK', 'ARR_TIME', 'ARR_DEL15', 'CANCELLED', 'DIVERTED', 'DISTANCE', 'Unnamed: 21'], dtype='object')"
            ]
          },
          "metadata": {
            "tags": []
          },
          "execution_count": 12
        }
      ]
    },
    {
      "cell_type": "code",
      "metadata": {
        "id": "gy8iNZIUrjP9",
        "colab_type": "code",
        "outputId": "b4d03a2e-1bed-4be3-fd74-dd2526dd3d99",
        "colab": {
          "base_uri": "https://localhost:8080/",
          "height": 215
        }
      },
      "source": [
        "flight_df.drop('Unnamed: 21',axis=1,inplace=True)\n",
        "flight_df.head()"
      ],
      "execution_count": 13,
      "outputs": [
        {
          "output_type": "execute_result",
          "data": {
            "text/html": [
              "<div>\n",
              "<style scoped>\n",
              "    .dataframe tbody tr th:only-of-type {\n",
              "        vertical-align: middle;\n",
              "    }\n",
              "\n",
              "    .dataframe tbody tr th {\n",
              "        vertical-align: top;\n",
              "    }\n",
              "\n",
              "    .dataframe thead th {\n",
              "        text-align: right;\n",
              "    }\n",
              "</style>\n",
              "<table border=\"1\" class=\"dataframe\">\n",
              "  <thead>\n",
              "    <tr style=\"text-align: right;\">\n",
              "      <th></th>\n",
              "      <th>DAY_OF_MONTH</th>\n",
              "      <th>DAY_OF_WEEK</th>\n",
              "      <th>OP_UNIQUE_CARRIER</th>\n",
              "      <th>OP_CARRIER_AIRLINE_ID</th>\n",
              "      <th>OP_CARRIER</th>\n",
              "      <th>TAIL_NUM</th>\n",
              "      <th>OP_CARRIER_FL_NUM</th>\n",
              "      <th>ORIGIN_AIRPORT_ID</th>\n",
              "      <th>ORIGIN_AIRPORT_SEQ_ID</th>\n",
              "      <th>ORIGIN</th>\n",
              "      <th>DEST_AIRPORT_ID</th>\n",
              "      <th>DEST_AIRPORT_SEQ_ID</th>\n",
              "      <th>DEST</th>\n",
              "      <th>DEP_TIME</th>\n",
              "      <th>DEP_DEL15</th>\n",
              "      <th>DEP_TIME_BLK</th>\n",
              "      <th>ARR_TIME</th>\n",
              "      <th>ARR_DEL15</th>\n",
              "      <th>CANCELLED</th>\n",
              "      <th>DIVERTED</th>\n",
              "      <th>DISTANCE</th>\n",
              "    </tr>\n",
              "  </thead>\n",
              "  <tbody>\n",
              "    <tr>\n",
              "      <th>0</th>\n",
              "      <td>1</td>\n",
              "      <td>2</td>\n",
              "      <td>9E</td>\n",
              "      <td>20363</td>\n",
              "      <td>9E</td>\n",
              "      <td>N8688C</td>\n",
              "      <td>3280</td>\n",
              "      <td>11953</td>\n",
              "      <td>1195302</td>\n",
              "      <td>GNV</td>\n",
              "      <td>10397</td>\n",
              "      <td>1039707</td>\n",
              "      <td>ATL</td>\n",
              "      <td>601.0</td>\n",
              "      <td>0.0</td>\n",
              "      <td>0600-0659</td>\n",
              "      <td>722.0</td>\n",
              "      <td>0.0</td>\n",
              "      <td>0.0</td>\n",
              "      <td>0.0</td>\n",
              "      <td>300.0</td>\n",
              "    </tr>\n",
              "    <tr>\n",
              "      <th>1</th>\n",
              "      <td>1</td>\n",
              "      <td>2</td>\n",
              "      <td>9E</td>\n",
              "      <td>20363</td>\n",
              "      <td>9E</td>\n",
              "      <td>N348PQ</td>\n",
              "      <td>3281</td>\n",
              "      <td>13487</td>\n",
              "      <td>1348702</td>\n",
              "      <td>MSP</td>\n",
              "      <td>11193</td>\n",
              "      <td>1119302</td>\n",
              "      <td>CVG</td>\n",
              "      <td>1359.0</td>\n",
              "      <td>0.0</td>\n",
              "      <td>1400-1459</td>\n",
              "      <td>1633.0</td>\n",
              "      <td>0.0</td>\n",
              "      <td>0.0</td>\n",
              "      <td>0.0</td>\n",
              "      <td>596.0</td>\n",
              "    </tr>\n",
              "    <tr>\n",
              "      <th>2</th>\n",
              "      <td>1</td>\n",
              "      <td>2</td>\n",
              "      <td>9E</td>\n",
              "      <td>20363</td>\n",
              "      <td>9E</td>\n",
              "      <td>N8896A</td>\n",
              "      <td>3282</td>\n",
              "      <td>11433</td>\n",
              "      <td>1143302</td>\n",
              "      <td>DTW</td>\n",
              "      <td>11193</td>\n",
              "      <td>1119302</td>\n",
              "      <td>CVG</td>\n",
              "      <td>1215.0</td>\n",
              "      <td>0.0</td>\n",
              "      <td>1200-1259</td>\n",
              "      <td>1329.0</td>\n",
              "      <td>0.0</td>\n",
              "      <td>0.0</td>\n",
              "      <td>0.0</td>\n",
              "      <td>229.0</td>\n",
              "    </tr>\n",
              "    <tr>\n",
              "      <th>3</th>\n",
              "      <td>1</td>\n",
              "      <td>2</td>\n",
              "      <td>9E</td>\n",
              "      <td>20363</td>\n",
              "      <td>9E</td>\n",
              "      <td>N8886A</td>\n",
              "      <td>3283</td>\n",
              "      <td>15249</td>\n",
              "      <td>1524906</td>\n",
              "      <td>TLH</td>\n",
              "      <td>10397</td>\n",
              "      <td>1039707</td>\n",
              "      <td>ATL</td>\n",
              "      <td>1521.0</td>\n",
              "      <td>0.0</td>\n",
              "      <td>1500-1559</td>\n",
              "      <td>1625.0</td>\n",
              "      <td>0.0</td>\n",
              "      <td>0.0</td>\n",
              "      <td>0.0</td>\n",
              "      <td>223.0</td>\n",
              "    </tr>\n",
              "    <tr>\n",
              "      <th>4</th>\n",
              "      <td>1</td>\n",
              "      <td>2</td>\n",
              "      <td>9E</td>\n",
              "      <td>20363</td>\n",
              "      <td>9E</td>\n",
              "      <td>N8974C</td>\n",
              "      <td>3284</td>\n",
              "      <td>10397</td>\n",
              "      <td>1039707</td>\n",
              "      <td>ATL</td>\n",
              "      <td>11778</td>\n",
              "      <td>1177801</td>\n",
              "      <td>FSM</td>\n",
              "      <td>1847.0</td>\n",
              "      <td>0.0</td>\n",
              "      <td>1900-1959</td>\n",
              "      <td>1940.0</td>\n",
              "      <td>0.0</td>\n",
              "      <td>0.0</td>\n",
              "      <td>0.0</td>\n",
              "      <td>579.0</td>\n",
              "    </tr>\n",
              "  </tbody>\n",
              "</table>\n",
              "</div>"
            ],
            "text/plain": [
              "   DAY_OF_MONTH  DAY_OF_WEEK OP_UNIQUE_CARRIER  OP_CARRIER_AIRLINE_ID OP_CARRIER TAIL_NUM  OP_CARRIER_FL_NUM  ORIGIN_AIRPORT_ID  ORIGIN_AIRPORT_SEQ_ID ORIGIN  DEST_AIRPORT_ID  DEST_AIRPORT_SEQ_ID DEST  DEP_TIME  DEP_DEL15 DEP_TIME_BLK  ARR_TIME  ARR_DEL15  CANCELLED  DIVERTED  DISTANCE\n",
              "0             1            2                9E                  20363         9E   N8688C               3280              11953                1195302    GNV            10397              1039707  ATL     601.0        0.0    0600-0659     722.0        0.0        0.0       0.0     300.0\n",
              "1             1            2                9E                  20363         9E   N348PQ               3281              13487                1348702    MSP            11193              1119302  CVG    1359.0        0.0    1400-1459    1633.0        0.0        0.0       0.0     596.0\n",
              "2             1            2                9E                  20363         9E   N8896A               3282              11433                1143302    DTW            11193              1119302  CVG    1215.0        0.0    1200-1259    1329.0        0.0        0.0       0.0     229.0\n",
              "3             1            2                9E                  20363         9E   N8886A               3283              15249                1524906    TLH            10397              1039707  ATL    1521.0        0.0    1500-1559    1625.0        0.0        0.0       0.0     223.0\n",
              "4             1            2                9E                  20363         9E   N8974C               3284              10397                1039707    ATL            11778              1177801  FSM    1847.0        0.0    1900-1959    1940.0        0.0        0.0       0.0     579.0"
            ]
          },
          "metadata": {
            "tags": []
          },
          "execution_count": 13
        }
      ]
    },
    {
      "cell_type": "code",
      "metadata": {
        "id": "jclvt8IOsOfr",
        "colab_type": "code",
        "outputId": "063d9e0d-db47-46b4-a8e6-1f10726c9750",
        "colab": {
          "base_uri": "https://localhost:8080/",
          "height": 34
        }
      },
      "source": [
        "#Checking for NAN values in column arrival time\n",
        "na_val=flight_df['ARR_TIME'].isnull().sum()\n",
        "print ('Count of NaN: ',na_val)"
      ],
      "execution_count": 17,
      "outputs": [
        {
          "output_type": "stream",
          "text": [
            "Count of NaN:  17061\n"
          ],
          "name": "stdout"
        }
      ]
    },
    {
      "cell_type": "code",
      "metadata": {
        "id": "ChM95bVvstsk",
        "colab_type": "code",
        "colab": {
          "base_uri": "https://localhost:8080/",
          "height": 118
        },
        "outputId": "b42ede1f-b12f-4f6c-f14b-e7bdd334755a"
      },
      "source": [
        "# checking Null values in each column\n",
        "null_columns=flight_df.columns[flight_df.isnull().any()]\n",
        "flight_df[null_columns].isnull().sum()"
      ],
      "execution_count": 15,
      "outputs": [
        {
          "output_type": "execute_result",
          "data": {
            "text/plain": [
              "TAIL_NUM      2543\n",
              "DEP_TIME     16352\n",
              "DEP_DEL15    16355\n",
              "ARR_TIME     17061\n",
              "ARR_DEL15    18022\n",
              "dtype: int64"
            ]
          },
          "metadata": {
            "tags": []
          },
          "execution_count": 15
        }
      ]
    },
    {
      "cell_type": "code",
      "metadata": {
        "id": "8B622BK0V42l",
        "colab_type": "code",
        "colab": {
          "base_uri": "https://localhost:8080/",
          "height": 393
        },
        "outputId": "703e7e84-3740-4288-e5cd-e5454a6591bb"
      },
      "source": [
        "flight_df.describe(include='all')"
      ],
      "execution_count": 32,
      "outputs": [
        {
          "output_type": "execute_result",
          "data": {
            "text/html": [
              "<div>\n",
              "<style scoped>\n",
              "    .dataframe tbody tr th:only-of-type {\n",
              "        vertical-align: middle;\n",
              "    }\n",
              "\n",
              "    .dataframe tbody tr th {\n",
              "        vertical-align: top;\n",
              "    }\n",
              "\n",
              "    .dataframe thead th {\n",
              "        text-align: right;\n",
              "    }\n",
              "</style>\n",
              "<table border=\"1\" class=\"dataframe\">\n",
              "  <thead>\n",
              "    <tr style=\"text-align: right;\">\n",
              "      <th></th>\n",
              "      <th>DAY_OF_MONTH</th>\n",
              "      <th>DAY_OF_WEEK</th>\n",
              "      <th>OP_UNIQUE_CARRIER</th>\n",
              "      <th>OP_CARRIER_AIRLINE_ID</th>\n",
              "      <th>OP_CARRIER</th>\n",
              "      <th>TAIL_NUM</th>\n",
              "      <th>OP_CARRIER_FL_NUM</th>\n",
              "      <th>ORIGIN_AIRPORT_ID</th>\n",
              "      <th>ORIGIN_AIRPORT_SEQ_ID</th>\n",
              "      <th>ORIGIN</th>\n",
              "      <th>DEST_AIRPORT_ID</th>\n",
              "      <th>DEST_AIRPORT_SEQ_ID</th>\n",
              "      <th>DEST</th>\n",
              "      <th>DEP_TIME</th>\n",
              "      <th>DEP_DEL15</th>\n",
              "      <th>DEP_TIME_BLK</th>\n",
              "      <th>ARR_TIME</th>\n",
              "      <th>ARR_DEL15</th>\n",
              "      <th>CANCELLED</th>\n",
              "      <th>DIVERTED</th>\n",
              "      <th>DISTANCE</th>\n",
              "    </tr>\n",
              "  </thead>\n",
              "  <tbody>\n",
              "    <tr>\n",
              "      <th>count</th>\n",
              "      <td>583985.000000</td>\n",
              "      <td>583985.000000</td>\n",
              "      <td>583985</td>\n",
              "      <td>583985.000000</td>\n",
              "      <td>583985</td>\n",
              "      <td>581442</td>\n",
              "      <td>583985.000000</td>\n",
              "      <td>583985.000000</td>\n",
              "      <td>5.839850e+05</td>\n",
              "      <td>583985</td>\n",
              "      <td>583985.000000</td>\n",
              "      <td>5.839850e+05</td>\n",
              "      <td>583985</td>\n",
              "      <td>567633.000000</td>\n",
              "      <td>567630.000000</td>\n",
              "      <td>583985</td>\n",
              "      <td>566924.000000</td>\n",
              "      <td>565963.000000</td>\n",
              "      <td>583985.000000</td>\n",
              "      <td>583985.000000</td>\n",
              "      <td>583985.000000</td>\n",
              "    </tr>\n",
              "    <tr>\n",
              "      <th>unique</th>\n",
              "      <td>NaN</td>\n",
              "      <td>NaN</td>\n",
              "      <td>17</td>\n",
              "      <td>NaN</td>\n",
              "      <td>17</td>\n",
              "      <td>5446</td>\n",
              "      <td>NaN</td>\n",
              "      <td>NaN</td>\n",
              "      <td>NaN</td>\n",
              "      <td>346</td>\n",
              "      <td>NaN</td>\n",
              "      <td>NaN</td>\n",
              "      <td>346</td>\n",
              "      <td>NaN</td>\n",
              "      <td>NaN</td>\n",
              "      <td>19</td>\n",
              "      <td>NaN</td>\n",
              "      <td>NaN</td>\n",
              "      <td>NaN</td>\n",
              "      <td>NaN</td>\n",
              "      <td>NaN</td>\n",
              "    </tr>\n",
              "    <tr>\n",
              "      <th>top</th>\n",
              "      <td>NaN</td>\n",
              "      <td>NaN</td>\n",
              "      <td>WN</td>\n",
              "      <td>NaN</td>\n",
              "      <td>WN</td>\n",
              "      <td>N488HA</td>\n",
              "      <td>NaN</td>\n",
              "      <td>NaN</td>\n",
              "      <td>NaN</td>\n",
              "      <td>ATL</td>\n",
              "      <td>NaN</td>\n",
              "      <td>NaN</td>\n",
              "      <td>ATL</td>\n",
              "      <td>NaN</td>\n",
              "      <td>NaN</td>\n",
              "      <td>0600-0659</td>\n",
              "      <td>NaN</td>\n",
              "      <td>NaN</td>\n",
              "      <td>NaN</td>\n",
              "      <td>NaN</td>\n",
              "      <td>NaN</td>\n",
              "    </tr>\n",
              "    <tr>\n",
              "      <th>freq</th>\n",
              "      <td>NaN</td>\n",
              "      <td>NaN</td>\n",
              "      <td>111312</td>\n",
              "      <td>NaN</td>\n",
              "      <td>111312</td>\n",
              "      <td>361</td>\n",
              "      <td>NaN</td>\n",
              "      <td>NaN</td>\n",
              "      <td>NaN</td>\n",
              "      <td>31155</td>\n",
              "      <td>NaN</td>\n",
              "      <td>NaN</td>\n",
              "      <td>31151</td>\n",
              "      <td>NaN</td>\n",
              "      <td>NaN</td>\n",
              "      <td>41971</td>\n",
              "      <td>NaN</td>\n",
              "      <td>NaN</td>\n",
              "      <td>NaN</td>\n",
              "      <td>NaN</td>\n",
              "      <td>NaN</td>\n",
              "    </tr>\n",
              "    <tr>\n",
              "      <th>mean</th>\n",
              "      <td>15.960088</td>\n",
              "      <td>3.835626</td>\n",
              "      <td>NaN</td>\n",
              "      <td>19983.213168</td>\n",
              "      <td>NaN</td>\n",
              "      <td>NaN</td>\n",
              "      <td>2537.869334</td>\n",
              "      <td>12659.701982</td>\n",
              "      <td>1.265974e+06</td>\n",
              "      <td>NaN</td>\n",
              "      <td>12659.470015</td>\n",
              "      <td>1.265951e+06</td>\n",
              "      <td>NaN</td>\n",
              "      <td>1331.957814</td>\n",
              "      <td>0.174281</td>\n",
              "      <td>NaN</td>\n",
              "      <td>1484.315921</td>\n",
              "      <td>0.185917</td>\n",
              "      <td>0.028641</td>\n",
              "      <td>0.002219</td>\n",
              "      <td>797.742767</td>\n",
              "    </tr>\n",
              "    <tr>\n",
              "      <th>std</th>\n",
              "      <td>8.987942</td>\n",
              "      <td>1.921899</td>\n",
              "      <td>NaN</td>\n",
              "      <td>377.724638</td>\n",
              "      <td>NaN</td>\n",
              "      <td>NaN</td>\n",
              "      <td>1821.736145</td>\n",
              "      <td>1519.405493</td>\n",
              "      <td>1.519403e+05</td>\n",
              "      <td>NaN</td>\n",
              "      <td>1519.336466</td>\n",
              "      <td>1.519334e+05</td>\n",
              "      <td>NaN</td>\n",
              "      <td>495.404020</td>\n",
              "      <td>0.379351</td>\n",
              "      <td>NaN</td>\n",
              "      <td>523.162855</td>\n",
              "      <td>0.389040</td>\n",
              "      <td>0.166796</td>\n",
              "      <td>0.047056</td>\n",
              "      <td>589.999261</td>\n",
              "    </tr>\n",
              "    <tr>\n",
              "      <th>min</th>\n",
              "      <td>1.000000</td>\n",
              "      <td>1.000000</td>\n",
              "      <td>NaN</td>\n",
              "      <td>19393.000000</td>\n",
              "      <td>NaN</td>\n",
              "      <td>NaN</td>\n",
              "      <td>1.000000</td>\n",
              "      <td>10135.000000</td>\n",
              "      <td>1.013505e+06</td>\n",
              "      <td>NaN</td>\n",
              "      <td>10135.000000</td>\n",
              "      <td>1.013505e+06</td>\n",
              "      <td>NaN</td>\n",
              "      <td>1.000000</td>\n",
              "      <td>0.000000</td>\n",
              "      <td>NaN</td>\n",
              "      <td>1.000000</td>\n",
              "      <td>0.000000</td>\n",
              "      <td>0.000000</td>\n",
              "      <td>0.000000</td>\n",
              "      <td>31.000000</td>\n",
              "    </tr>\n",
              "    <tr>\n",
              "      <th>25%</th>\n",
              "      <td>8.000000</td>\n",
              "      <td>2.000000</td>\n",
              "      <td>NaN</td>\n",
              "      <td>19790.000000</td>\n",
              "      <td>NaN</td>\n",
              "      <td>NaN</td>\n",
              "      <td>979.000000</td>\n",
              "      <td>11292.000000</td>\n",
              "      <td>1.129202e+06</td>\n",
              "      <td>NaN</td>\n",
              "      <td>11292.000000</td>\n",
              "      <td>1.129202e+06</td>\n",
              "      <td>NaN</td>\n",
              "      <td>921.000000</td>\n",
              "      <td>0.000000</td>\n",
              "      <td>NaN</td>\n",
              "      <td>1104.000000</td>\n",
              "      <td>0.000000</td>\n",
              "      <td>0.000000</td>\n",
              "      <td>0.000000</td>\n",
              "      <td>363.000000</td>\n",
              "    </tr>\n",
              "    <tr>\n",
              "      <th>50%</th>\n",
              "      <td>16.000000</td>\n",
              "      <td>4.000000</td>\n",
              "      <td>NaN</td>\n",
              "      <td>19977.000000</td>\n",
              "      <td>NaN</td>\n",
              "      <td>NaN</td>\n",
              "      <td>2114.000000</td>\n",
              "      <td>12889.000000</td>\n",
              "      <td>1.288903e+06</td>\n",
              "      <td>NaN</td>\n",
              "      <td>12889.000000</td>\n",
              "      <td>1.288903e+06</td>\n",
              "      <td>NaN</td>\n",
              "      <td>1328.000000</td>\n",
              "      <td>0.000000</td>\n",
              "      <td>NaN</td>\n",
              "      <td>1517.000000</td>\n",
              "      <td>0.000000</td>\n",
              "      <td>0.000000</td>\n",
              "      <td>0.000000</td>\n",
              "      <td>640.000000</td>\n",
              "    </tr>\n",
              "    <tr>\n",
              "      <th>75%</th>\n",
              "      <td>24.000000</td>\n",
              "      <td>5.000000</td>\n",
              "      <td>NaN</td>\n",
              "      <td>20368.000000</td>\n",
              "      <td>NaN</td>\n",
              "      <td>NaN</td>\n",
              "      <td>3902.000000</td>\n",
              "      <td>13931.000000</td>\n",
              "      <td>1.393102e+06</td>\n",
              "      <td>NaN</td>\n",
              "      <td>13931.000000</td>\n",
              "      <td>1.393102e+06</td>\n",
              "      <td>NaN</td>\n",
              "      <td>1738.000000</td>\n",
              "      <td>0.000000</td>\n",
              "      <td>NaN</td>\n",
              "      <td>1919.000000</td>\n",
              "      <td>0.000000</td>\n",
              "      <td>0.000000</td>\n",
              "      <td>0.000000</td>\n",
              "      <td>1037.000000</td>\n",
              "    </tr>\n",
              "    <tr>\n",
              "      <th>max</th>\n",
              "      <td>31.000000</td>\n",
              "      <td>7.000000</td>\n",
              "      <td>NaN</td>\n",
              "      <td>20452.000000</td>\n",
              "      <td>NaN</td>\n",
              "      <td>NaN</td>\n",
              "      <td>7439.000000</td>\n",
              "      <td>16218.000000</td>\n",
              "      <td>1.621802e+06</td>\n",
              "      <td>NaN</td>\n",
              "      <td>16218.000000</td>\n",
              "      <td>1.621802e+06</td>\n",
              "      <td>NaN</td>\n",
              "      <td>2400.000000</td>\n",
              "      <td>1.000000</td>\n",
              "      <td>NaN</td>\n",
              "      <td>2400.000000</td>\n",
              "      <td>1.000000</td>\n",
              "      <td>1.000000</td>\n",
              "      <td>1.000000</td>\n",
              "      <td>4983.000000</td>\n",
              "    </tr>\n",
              "  </tbody>\n",
              "</table>\n",
              "</div>"
            ],
            "text/plain": [
              "         DAY_OF_MONTH    DAY_OF_WEEK OP_UNIQUE_CARRIER  OP_CARRIER_AIRLINE_ID OP_CARRIER TAIL_NUM  OP_CARRIER_FL_NUM  ORIGIN_AIRPORT_ID  ORIGIN_AIRPORT_SEQ_ID  ORIGIN  DEST_AIRPORT_ID  DEST_AIRPORT_SEQ_ID    DEST       DEP_TIME      DEP_DEL15 DEP_TIME_BLK       ARR_TIME      ARR_DEL15      CANCELLED       DIVERTED       DISTANCE\n",
              "count   583985.000000  583985.000000            583985          583985.000000     583985   581442      583985.000000      583985.000000           5.839850e+05  583985    583985.000000         5.839850e+05  583985  567633.000000  567630.000000       583985  566924.000000  565963.000000  583985.000000  583985.000000  583985.000000\n",
              "unique            NaN            NaN                17                    NaN         17     5446                NaN                NaN                    NaN     346              NaN                  NaN     346            NaN            NaN           19            NaN            NaN            NaN            NaN            NaN\n",
              "top               NaN            NaN                WN                    NaN         WN   N488HA                NaN                NaN                    NaN     ATL              NaN                  NaN     ATL            NaN            NaN    0600-0659            NaN            NaN            NaN            NaN            NaN\n",
              "freq              NaN            NaN            111312                    NaN     111312      361                NaN                NaN                    NaN   31155              NaN                  NaN   31151            NaN            NaN        41971            NaN            NaN            NaN            NaN            NaN\n",
              "mean        15.960088       3.835626               NaN           19983.213168        NaN      NaN        2537.869334       12659.701982           1.265974e+06     NaN     12659.470015         1.265951e+06     NaN    1331.957814       0.174281          NaN    1484.315921       0.185917       0.028641       0.002219     797.742767\n",
              "std          8.987942       1.921899               NaN             377.724638        NaN      NaN        1821.736145        1519.405493           1.519403e+05     NaN      1519.336466         1.519334e+05     NaN     495.404020       0.379351          NaN     523.162855       0.389040       0.166796       0.047056     589.999261\n",
              "min          1.000000       1.000000               NaN           19393.000000        NaN      NaN           1.000000       10135.000000           1.013505e+06     NaN     10135.000000         1.013505e+06     NaN       1.000000       0.000000          NaN       1.000000       0.000000       0.000000       0.000000      31.000000\n",
              "25%          8.000000       2.000000               NaN           19790.000000        NaN      NaN         979.000000       11292.000000           1.129202e+06     NaN     11292.000000         1.129202e+06     NaN     921.000000       0.000000          NaN    1104.000000       0.000000       0.000000       0.000000     363.000000\n",
              "50%         16.000000       4.000000               NaN           19977.000000        NaN      NaN        2114.000000       12889.000000           1.288903e+06     NaN     12889.000000         1.288903e+06     NaN    1328.000000       0.000000          NaN    1517.000000       0.000000       0.000000       0.000000     640.000000\n",
              "75%         24.000000       5.000000               NaN           20368.000000        NaN      NaN        3902.000000       13931.000000           1.393102e+06     NaN     13931.000000         1.393102e+06     NaN    1738.000000       0.000000          NaN    1919.000000       0.000000       0.000000       0.000000    1037.000000\n",
              "max         31.000000       7.000000               NaN           20452.000000        NaN      NaN        7439.000000       16218.000000           1.621802e+06     NaN     16218.000000         1.621802e+06     NaN    2400.000000       1.000000          NaN    2400.000000       1.000000       1.000000       1.000000    4983.000000"
            ]
          },
          "metadata": {
            "tags": []
          },
          "execution_count": 32
        }
      ]
    },
    {
      "cell_type": "code",
      "metadata": {
        "id": "GT3pTwysXURK",
        "colab_type": "code",
        "colab": {
          "base_uri": "https://localhost:8080/",
          "height": 441
        },
        "outputId": "c9016b2b-8775-42c7-c3a8-40f02650e2a6"
      },
      "source": [
        "# duplicate rows\n",
        "dup_row=flight_df[flight_df.duplicated]\n",
        "print(\"duplicate rows:\",dup_row.shape)"
      ],
      "execution_count": 40,
      "outputs": [
        {
          "output_type": "error",
          "ename": "KeyError",
          "evalue": "ignored",
          "traceback": [
            "\u001b[0;31m---------------------------------------------------------------------------\u001b[0m",
            "\u001b[0;31mKeyError\u001b[0m                                  Traceback (most recent call last)",
            "\u001b[0;32m<ipython-input-40-b7217d1022d6>\u001b[0m in \u001b[0;36m<module>\u001b[0;34m()\u001b[0m\n\u001b[1;32m      1\u001b[0m \u001b[0;31m# duplicate rows\u001b[0m\u001b[0;34m\u001b[0m\u001b[0;34m\u001b[0m\u001b[0;34m\u001b[0m\u001b[0m\n\u001b[0;32m----> 2\u001b[0;31m \u001b[0mdup_row\u001b[0m\u001b[0;34m=\u001b[0m\u001b[0mflight_df\u001b[0m\u001b[0;34m[\u001b[0m\u001b[0mflight_df\u001b[0m\u001b[0;34m.\u001b[0m\u001b[0mduplicated\u001b[0m\u001b[0;34m]\u001b[0m\u001b[0;34m\u001b[0m\u001b[0;34m\u001b[0m\u001b[0m\n\u001b[0m\u001b[1;32m      3\u001b[0m \u001b[0mprint\u001b[0m\u001b[0;34m(\u001b[0m\u001b[0;34m\"duplicate rows:\"\u001b[0m\u001b[0;34m,\u001b[0m\u001b[0mdup_row\u001b[0m\u001b[0;34m.\u001b[0m\u001b[0mshape\u001b[0m\u001b[0;34m)\u001b[0m\u001b[0;34m\u001b[0m\u001b[0;34m\u001b[0m\u001b[0m\n",
            "\u001b[0;32m/usr/local/lib/python3.6/dist-packages/pandas/core/frame.py\u001b[0m in \u001b[0;36m__getitem__\u001b[0;34m(self, key)\u001b[0m\n\u001b[1;32m   2767\u001b[0m     \u001b[0;32mdef\u001b[0m \u001b[0m__getitem__\u001b[0m\u001b[0;34m(\u001b[0m\u001b[0mself\u001b[0m\u001b[0;34m,\u001b[0m \u001b[0mkey\u001b[0m\u001b[0;34m)\u001b[0m\u001b[0;34m:\u001b[0m\u001b[0;34m\u001b[0m\u001b[0;34m\u001b[0m\u001b[0m\n\u001b[1;32m   2768\u001b[0m         \u001b[0mkey\u001b[0m \u001b[0;34m=\u001b[0m \u001b[0mlib\u001b[0m\u001b[0;34m.\u001b[0m\u001b[0mitem_from_zerodim\u001b[0m\u001b[0;34m(\u001b[0m\u001b[0mkey\u001b[0m\u001b[0;34m)\u001b[0m\u001b[0;34m\u001b[0m\u001b[0;34m\u001b[0m\u001b[0m\n\u001b[0;32m-> 2769\u001b[0;31m         \u001b[0mkey\u001b[0m \u001b[0;34m=\u001b[0m \u001b[0mcom\u001b[0m\u001b[0;34m.\u001b[0m\u001b[0mapply_if_callable\u001b[0m\u001b[0;34m(\u001b[0m\u001b[0mkey\u001b[0m\u001b[0;34m,\u001b[0m \u001b[0mself\u001b[0m\u001b[0;34m)\u001b[0m\u001b[0;34m\u001b[0m\u001b[0;34m\u001b[0m\u001b[0m\n\u001b[0m\u001b[1;32m   2770\u001b[0m \u001b[0;34m\u001b[0m\u001b[0m\n\u001b[1;32m   2771\u001b[0m         \u001b[0;32mif\u001b[0m \u001b[0mis_hashable\u001b[0m\u001b[0;34m(\u001b[0m\u001b[0mkey\u001b[0m\u001b[0;34m)\u001b[0m\u001b[0;34m:\u001b[0m\u001b[0;34m\u001b[0m\u001b[0;34m\u001b[0m\u001b[0m\n",
            "\u001b[0;32m/usr/local/lib/python3.6/dist-packages/pandas/core/common.py\u001b[0m in \u001b[0;36mapply_if_callable\u001b[0;34m(maybe_callable, obj, **kwargs)\u001b[0m\n\u001b[1;32m    341\u001b[0m \u001b[0;34m\u001b[0m\u001b[0m\n\u001b[1;32m    342\u001b[0m     \u001b[0;32mif\u001b[0m \u001b[0mcallable\u001b[0m\u001b[0;34m(\u001b[0m\u001b[0mmaybe_callable\u001b[0m\u001b[0;34m)\u001b[0m\u001b[0;34m:\u001b[0m\u001b[0;34m\u001b[0m\u001b[0;34m\u001b[0m\u001b[0m\n\u001b[0;32m--> 343\u001b[0;31m         \u001b[0;32mreturn\u001b[0m \u001b[0mmaybe_callable\u001b[0m\u001b[0;34m(\u001b[0m\u001b[0mobj\u001b[0m\u001b[0;34m,\u001b[0m \u001b[0;34m**\u001b[0m\u001b[0mkwargs\u001b[0m\u001b[0;34m)\u001b[0m\u001b[0;34m\u001b[0m\u001b[0;34m\u001b[0m\u001b[0m\n\u001b[0m\u001b[1;32m    344\u001b[0m \u001b[0;34m\u001b[0m\u001b[0m\n\u001b[1;32m    345\u001b[0m     \u001b[0;32mreturn\u001b[0m \u001b[0mmaybe_callable\u001b[0m\u001b[0;34m\u001b[0m\u001b[0;34m\u001b[0m\u001b[0m\n",
            "\u001b[0;32m/usr/local/lib/python3.6/dist-packages/pandas/core/frame.py\u001b[0m in \u001b[0;36mduplicated\u001b[0;34m(self, subset, keep)\u001b[0m\n\u001b[1;32m   4883\u001b[0m         \u001b[0mdiff\u001b[0m \u001b[0;34m=\u001b[0m \u001b[0mIndex\u001b[0m\u001b[0;34m(\u001b[0m\u001b[0msubset\u001b[0m\u001b[0;34m)\u001b[0m\u001b[0;34m.\u001b[0m\u001b[0mdifference\u001b[0m\u001b[0;34m(\u001b[0m\u001b[0mself\u001b[0m\u001b[0;34m.\u001b[0m\u001b[0mcolumns\u001b[0m\u001b[0;34m)\u001b[0m\u001b[0;34m\u001b[0m\u001b[0;34m\u001b[0m\u001b[0m\n\u001b[1;32m   4884\u001b[0m         \u001b[0;32mif\u001b[0m \u001b[0;32mnot\u001b[0m \u001b[0mdiff\u001b[0m\u001b[0;34m.\u001b[0m\u001b[0mempty\u001b[0m\u001b[0;34m:\u001b[0m\u001b[0;34m\u001b[0m\u001b[0;34m\u001b[0m\u001b[0m\n\u001b[0;32m-> 4885\u001b[0;31m             \u001b[0;32mraise\u001b[0m \u001b[0mKeyError\u001b[0m\u001b[0;34m(\u001b[0m\u001b[0mdiff\u001b[0m\u001b[0;34m)\u001b[0m\u001b[0;34m\u001b[0m\u001b[0;34m\u001b[0m\u001b[0m\n\u001b[0m\u001b[1;32m   4886\u001b[0m \u001b[0;34m\u001b[0m\u001b[0m\n\u001b[1;32m   4887\u001b[0m         \u001b[0mvals\u001b[0m \u001b[0;34m=\u001b[0m \u001b[0;34m(\u001b[0m\u001b[0mcol\u001b[0m\u001b[0;34m.\u001b[0m\u001b[0mvalues\u001b[0m \u001b[0;32mfor\u001b[0m \u001b[0mname\u001b[0m\u001b[0;34m,\u001b[0m \u001b[0mcol\u001b[0m \u001b[0;32min\u001b[0m \u001b[0mself\u001b[0m\u001b[0;34m.\u001b[0m\u001b[0mitems\u001b[0m\u001b[0;34m(\u001b[0m\u001b[0;34m)\u001b[0m \u001b[0;32mif\u001b[0m \u001b[0mname\u001b[0m \u001b[0;32min\u001b[0m \u001b[0msubset\u001b[0m\u001b[0;34m)\u001b[0m\u001b[0;34m\u001b[0m\u001b[0;34m\u001b[0m\u001b[0m\n",
            "\u001b[0;31mKeyError\u001b[0m: Index([   (1, 2, '9E', 20363, '9E', 'N8688C', 3280, 11953, 1195302, 'GNV', 10397, 1039707, 'ATL', 601.0, 0.0, '0600-0659', 722.0, 0.0, 0.0, 0.0, 300.0),  (1, 2, '9E', 20363, '9E', 'N348PQ', 3281, 13487, 1348702, 'MSP', 11193, 1119302, 'CVG', 1359.0, 0.0, '1400-1459', 1633.0, 0.0, 0.0, 0.0, 596.0),  (1, 2, '9E', 20363, '9E', 'N8896A', 3282, 11433, 1143302, 'DTW', 11193, 1119302, 'CVG', 1215.0, 0.0, '1200-1259', 1329.0, 0.0, 0.0, 0.0, 229.0),  (1, 2, '9E', 20363, '9E', 'N8886A', 3283, 15249, 1524906, 'TLH', 10397, 1039707, 'ATL', 1521.0, 0.0, '1500-1559', 1625.0, 0.0, 0.0, 0.0, 223.0),  (1, 2, '9E', 20363, '9E', 'N8974C', 3284, 10397, 1039707, 'ATL', 11778, 1177801, 'FSM', 1847.0, 0.0, '1900-1959', 1940.0, 0.0, 0.0, 0.0, 579.0),    (1, 2, '9E', 20363, '9E', 'N927EV', 3285, 11267, 1126702, 'DAY', 13487, 1348702, 'MSP', 853.0, 0.0, '0900-0959', 953.0, 0.0, 0.0, 0.0, 574.0),\n        (1, 2, '9E', 20363, '9E', 'N915XJ', 3286, 12448, 1244807, 'JAN', 10397, 1039707, 'ATL', 1553.0, 0.0, '1500-1559', 1832.0, 0.0, 0.0, 0.0, 341.0),  (1, 2, '9E', 20363, '9E', 'N295PQ', 3287, 12953, 1295304, 'LGA', 11193, 1119302, 'CVG', 1551.0, 0.0, '1500-1559', 1824.0, 0.0, 0.0, 0.0, 585.0),  (1, 2, '9E', 20363, '9E', 'N337PQ', 3288, 12451, 1245102, 'JAX', 12953, 1295304, 'LGA', 1037.0, 0.0, '1000-1059', 1239.0, 0.0, 0.0, 0.0, 833.0),  (1, 2, '9E', 20363, '9E', 'N311PQ', 3289, 10397, 1039707, 'ATL', 10685, 1068502, 'BMI', 1245.0, 0.0, '1200-1259', 1318.0, 0.0, 0.0, 0.0, 533.0),\n       ...\n          (31, 4, 'UA', 19977, 'UA', 'N813UA', 205, 14771, 1477104, 'SFO', 14057, 1405702, 'PDX', 604.0, 0.0, '0600-0659', 802.0, 0.0, 0.0, 0.0, 550.0),  (31, 4, 'UA', 19977, 'UA', 'N75861', 204, 13930, 1393007, 'ORD', 12892, 1289208, 'LAX', 813.0, 1.0, '0700-0759', 1028.0, 0.0, 0.0, 0.0, 1744.0),  (31, 4, 'UA', 19977, 'UA', 'N39728', 203, 10693, 1069302, 'BNA', 12266, 1226603, 'IAH', 1105.0, 0.0, '1100-1159', 1335.0, 1.0, 0.0, 0.0, 657.0), (31, 4, 'UA', 19977, 'UA', 'N779UA', 202, 13930, 1393007, 'ORD', 13830, 1383002, 'OGG', 1027.0, 1.0, '1000-1059', 1457.0, 0.0, 0.0, 0.0, 4184.0), (31, 4, 'UA', 19977, 'UA', 'N769UA', 201, 12173, 1217305, 'HNL', 12016, 1201602, 'GUM', 1502.0, 0.0, '1500-1559', 1849.0, 0.0, 0.0, 0.0, 3801.0),  (31, 4, 'UA', 19977, 'UA', 'N776UA', 200, 12016, 1201602, 'GUM', 12173, 1217305, 'HNL', 749.0, 0.0, '0700-0759', 1832.0, 0.0, 0.0, 0.0, 3801.0),\n          (31, 4, 'UA', 19977, 'UA', 'N36280', 174, 12016, 1201602, 'GUM', 14955, 1495503, 'SPN', 717.0, 0.0, '0700-0759', 759.0, 0.0, 0.0, 0.0, 129.0),    (31, 4, 'UA', 19977, 'UA', 'N36280', 117, 14955, 1495503, 'SPN', 12016, 1201602, 'GUM', 857.0, 0.0, '0900-0959', 933.0, 0.0, 0.0, 0.0, 129.0),  (31, 4, 'UA', 19977, 'UA', 'N39726', 105, 14955, 1495503, 'SPN', 12016, 1201602, 'GUM', 1820.0, 0.0, '1800-1859', 1854.0, 0.0, 0.0, 0.0, 129.0),  (31, 4, 'UA', 19977, 'UA', 'N39726', 104, 12016, 1201602, 'GUM', 14955, 1495503, 'SPN', 1636.0, 0.0, '1600-1659', 1719.0, 0.0, 0.0, 0.0, 129.0)],\n      dtype='object', length=583985)"
          ]
        }
      ]
    },
    {
      "cell_type": "code",
      "metadata": {
        "id": "26i9gYm2ZFzH",
        "colab_type": "code",
        "colab": {
          "base_uri": "https://localhost:8080/",
          "height": 34
        },
        "outputId": "b603fb00-fc72-4535-81ac-1fcdefc58759"
      },
      "source": [
        "flight_df.shape"
      ],
      "execution_count": 37,
      "outputs": [
        {
          "output_type": "execute_result",
          "data": {
            "text/plain": [
              "(583985, 21)"
            ]
          },
          "metadata": {
            "tags": []
          },
          "execution_count": 37
        }
      ]
    },
    {
      "cell_type": "code",
      "metadata": {
        "id": "aH2cGRRkZpyT",
        "colab_type": "code",
        "colab": {}
      },
      "source": [
        ""
      ],
      "execution_count": 0,
      "outputs": []
    }
  ]
}